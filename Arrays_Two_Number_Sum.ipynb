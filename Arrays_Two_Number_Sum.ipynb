{
  "nbformat": 4,
  "nbformat_minor": 0,
  "metadata": {
    "colab": {
      "provenance": [],
      "authorship_tag": "ABX9TyMLvMGly3D2Cy4e4e+Z0hz7"
    },
    "kernelspec": {
      "name": "python3",
      "display_name": "Python 3"
    },
    "language_info": {
      "name": "python"
    }
  },
  "cells": [
    {
      "cell_type": "markdown",
      "source": [
        "# Question\n",
        "Write a function that takes in a non-empty array of distinct integers and an integer representing a target sum. If any two numbers in the input array sum up to the target sum, the function should return them in an array, in any order. If no two numbers sum up to the target sum, the function should return an empty array.\n",
        "\n",
        "\n",
        "```\n",
        "input: \n",
        "array = [3,5,-4,8,11,1,-1,6] \n",
        "targetSum = 10\n",
        "\n",
        "output:\n",
        "\n",
        "[-1,11]\n",
        "```"
      ],
      "metadata": {
        "id": "pvi8wrpLFgNJ"
      }
    },
    {
      "cell_type": "code",
      "execution_count": 28,
      "metadata": {
        "id": "YHZB-d-yFBGI"
      },
      "outputs": [],
      "source": [
        "# Creat a function that returns arrays of two number sum\n",
        "def two_number_sum(array, targetSum):\n",
        "  for i in range(len(array) - 1):\n",
        "    solution = []\n",
        "    for j in range(i + 1, len(array)):\n",
        "      if array[i] + array[j] == targetSum:\n",
        "        solution.append(array[i]), solution.append(array[j])\n",
        "        return solution\n",
        "      "
      ]
    },
    {
      "cell_type": "code",
      "source": [
        "# Use the function to Print out the solution\n",
        "array = [3,5,-4,8,11,1,-1,6]\n",
        "\n",
        "targetSum = 10\n",
        "\n",
        "solution = two_number_sum(array, targetSum)\n",
        "print(solution)"
      ],
      "metadata": {
        "colab": {
          "base_uri": "https://localhost:8080/"
        },
        "id": "2yJ136wVFE-3",
        "outputId": "aec3341a-6d92-4e6b-c712-ad272d187333"
      },
      "execution_count": 29,
      "outputs": [
        {
          "output_type": "stream",
          "name": "stdout",
          "text": [
            "[11, -1]\n"
          ]
        }
      ]
    }
  ]
}