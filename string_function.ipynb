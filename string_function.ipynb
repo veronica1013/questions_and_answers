{
  "nbformat": 4,
  "nbformat_minor": 0,
  "metadata": {
    "colab": {
      "provenance": [],
      "authorship_tag": "ABX9TyOmpB++DbmI/n6Y70nwIUbX"
    },
    "kernelspec": {
      "name": "python3",
      "display_name": "Python 3"
    },
    "language_info": {
      "name": "python"
    }
  },
  "cells": [
    {
      "cell_type": "markdown",
      "source": [
        "### Question\n",
        ">* Create a function in \"Classy\" that takes a string as\n",
        "input and adds it to the \"items\" list.\n",
        "Another method should calculate the \"classiness\"\n",
        "value based on the items.\n",
        ">* The following items have classiness points associated\n",
        "with them:\n",
        "*\"tophat\" = 2\n",
        "*\"bowtie\" = 4\n",
        "*\"monocle\" = 5\n",
        "Everything else has 0 points.\n"
      ],
      "metadata": {
        "id": "FruvYng71XGe"
      }
    },
    {
      "cell_type": "code",
      "execution_count": null,
      "metadata": {
        "id": "7phQC6lZ1E6k"
      },
      "outputs": [],
      "source": [
        "\"\"\"Use a class to represent how classy someone\n",
        "or something is.\n",
        "\"Classy\" is interchangable with \"fancy\".\n",
        "If you add fancy-looking items, you will increase\n",
        "your \"classiness\".\"\"\"\n",
        "\n",
        "class Classy(object):\n",
        "    def __init__(self):\n",
        "        self.items = []\n",
        "\n",
        "    def addItem(self, item):\n",
        "        self.items.append(item)\n",
        "\n",
        "    def getClassiness(self):\n",
        "        classiness = 0\n",
        "        if len(self.items) > 0:\n",
        "            for item in self.items:\n",
        "                if item == \"tophat\":\n",
        "                    classiness += 2\n",
        "                elif item == \"bowtie\":\n",
        "                    classiness += 4\n",
        "                elif item == \"monocle\":\n",
        "                    classiness += 5\n",
        "        return classiness\n",
        "\n",
        "\n",
        "\n",
        "# Test cases\n",
        "me = Classy()\n",
        "\n",
        "# Should be 0\n",
        "print me.getClassiness()\n",
        "\n",
        "me.addItem(\"tophat\")\n",
        "# Should be 2\n",
        "print me.getClassiness()\n",
        "\n",
        "me.addItem(\"bowtie\")\n",
        "me.addItem(\"jacket\")\n",
        "me.addItem(\"monocle\")\n",
        "# Should be 11\n",
        "print me.getClassiness()\n",
        "\n",
        "me.addItem(\"bowtie\")\n",
        "# Should be 15\n",
        "print me.getClassiness()"
      ]
    }
  ]
}