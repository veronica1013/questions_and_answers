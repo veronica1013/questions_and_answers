{
  "nbformat": 4,
  "nbformat_minor": 0,
  "metadata": {
    "colab": {
      "provenance": [],
      "authorship_tag": "ABX9TyPAFl19+/lfa1rTnkH95qTB"
    },
    "kernelspec": {
      "name": "python3",
      "display_name": "Python 3"
    },
    "language_info": {
      "name": "python"
    }
  },
  "cells": [
    {
      "cell_type": "markdown",
      "source": [
        "## Write a function that takes in three inputs variables and returns an average.\n",
        "\n",
        ">* Writing the function as below will give you errors if the number of values changes."
      ],
      "metadata": {
        "id": "wXEneVxYHulE"
      }
    },
    {
      "cell_type": "code",
      "source": [
        "# Function that takes in three values\n",
        "def average(a,b,c):\n",
        "  avg = (a+b+c) /3\n",
        "  print(avg)"
      ],
      "metadata": {
        "id": "hM3YZSmCFx-w"
      },
      "execution_count": null,
      "outputs": []
    },
    {
      "cell_type": "code",
      "source": [
        "# Changing the value to 5 returns an error\n",
        "average(7,4,5,6,7)"
      ],
      "metadata": {
        "colab": {
          "base_uri": "https://localhost:8080/",
          "height": 165
        },
        "id": "taFogYmYHR3q",
        "outputId": "4f0e95ba-01d2-4dbb-bdc4-7032c7506563"
      },
      "execution_count": null,
      "outputs": [
        {
          "output_type": "error",
          "ename": "TypeError",
          "evalue": "ignored",
          "traceback": [
            "\u001b[0;31m---------------------------------------------------------------------------\u001b[0m",
            "\u001b[0;31mTypeError\u001b[0m                                 Traceback (most recent call last)",
            "\u001b[0;32m<ipython-input-6-3cfb5f8a386e>\u001b[0m in \u001b[0;36m<module>\u001b[0;34m\u001b[0m\n\u001b[0;32m----> 1\u001b[0;31m \u001b[0maverage\u001b[0m\u001b[0;34m(\u001b[0m\u001b[0;36m7\u001b[0m\u001b[0;34m,\u001b[0m\u001b[0;36m4\u001b[0m\u001b[0;34m,\u001b[0m\u001b[0;36m5\u001b[0m\u001b[0;34m,\u001b[0m\u001b[0;36m6\u001b[0m\u001b[0;34m,\u001b[0m\u001b[0;36m7\u001b[0m\u001b[0;34m)\u001b[0m\u001b[0;34m\u001b[0m\u001b[0;34m\u001b[0m\u001b[0m\n\u001b[0m",
            "\u001b[0;31mTypeError\u001b[0m: average() takes 3 positional arguments but 5 were given"
          ]
        }
      ]
    },
    {
      "cell_type": "code",
      "source": [
        "average(3,4,5)"
      ],
      "metadata": {
        "colab": {
          "base_uri": "https://localhost:8080/"
        },
        "id": "oSFsg6N9HWQQ",
        "outputId": "8bab9995-abac-4e90-8b11-e09a85c718bf"
      },
      "execution_count": null,
      "outputs": [
        {
          "output_type": "stream",
          "name": "stdout",
          "text": [
            "4.0\n"
          ]
        }
      ]
    },
    {
      "cell_type": "code",
      "source": [
        "average(4,5)"
      ],
      "metadata": {
        "colab": {
          "base_uri": "https://localhost:8080/",
          "height": 165
        },
        "id": "n1DdndnyHYt2",
        "outputId": "02a433ec-3224-47f9-8508-099498c5c684"
      },
      "execution_count": null,
      "outputs": [
        {
          "output_type": "error",
          "ename": "TypeError",
          "evalue": "ignored",
          "traceback": [
            "\u001b[0;31m---------------------------------------------------------------------------\u001b[0m",
            "\u001b[0;31mTypeError\u001b[0m                                 Traceback (most recent call last)",
            "\u001b[0;32m<ipython-input-8-ff9671b0a22a>\u001b[0m in \u001b[0;36m<module>\u001b[0;34m\u001b[0m\n\u001b[0;32m----> 1\u001b[0;31m \u001b[0maverage\u001b[0m\u001b[0;34m(\u001b[0m\u001b[0;36m4\u001b[0m\u001b[0;34m,\u001b[0m\u001b[0;36m5\u001b[0m\u001b[0;34m)\u001b[0m\u001b[0;34m\u001b[0m\u001b[0;34m\u001b[0m\u001b[0m\n\u001b[0m",
            "\u001b[0;31mTypeError\u001b[0m: average() missing 1 required positional argument: 'c'"
          ]
        }
      ]
    },
    {
      "cell_type": "markdown",
      "source": [
        "**Obseravtion**\n",
        ">* The above function breaks if a fourth value is introduced, if the values are less than three or if the number of values changes. To solve this problem, write the function as below:"
      ],
      "metadata": {
        "id": "FpYTifCTIDCW"
      }
    },
    {
      "cell_type": "code",
      "source": [
        "# Write a function that takes in values and returns the average of those values\n",
        "def average(*args): # Use args. You may use any word i.e nums\n",
        "  avg = sum(args) / len(args)\n",
        "  print(avg)"
      ],
      "metadata": {
        "id": "uW94LhFDHdbk"
      },
      "execution_count": null,
      "outputs": []
    },
    {
      "cell_type": "code",
      "source": [
        "average(4,5,6,7,8)"
      ],
      "metadata": {
        "colab": {
          "base_uri": "https://localhost:8080/"
        },
        "id": "XDJOjspSIqr8",
        "outputId": "99dfbf6b-87c9-431f-ca5b-873559828f53"
      },
      "execution_count": null,
      "outputs": [
        {
          "output_type": "stream",
          "name": "stdout",
          "text": [
            "6.0\n"
          ]
        }
      ]
    },
    {
      "cell_type": "code",
      "source": [
        "average(3,4)"
      ],
      "metadata": {
        "colab": {
          "base_uri": "https://localhost:8080/"
        },
        "id": "zkv68oLWItij",
        "outputId": "da36a018-165d-4ae2-ec0f-e189b1647856"
      },
      "execution_count": null,
      "outputs": [
        {
          "output_type": "stream",
          "name": "stdout",
          "text": [
            "3.5\n"
          ]
        }
      ]
    },
    {
      "cell_type": "code",
      "source": [
        "average(9,4,6)"
      ],
      "metadata": {
        "colab": {
          "base_uri": "https://localhost:8080/"
        },
        "id": "xZK7LEigIvrk",
        "outputId": "1e931653-74a3-4eb6-ce70-34d4082dba83"
      },
      "execution_count": null,
      "outputs": [
        {
          "output_type": "stream",
          "name": "stdout",
          "text": [
            "6.333333333333333\n"
          ]
        }
      ]
    },
    {
      "cell_type": "code",
      "source": [],
      "metadata": {
        "id": "dre-4iPsIzWU"
      },
      "execution_count": null,
      "outputs": []
    }
  ]
}