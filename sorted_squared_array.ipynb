{
  "nbformat": 4,
  "nbformat_minor": 0,
  "metadata": {
    "colab": {
      "provenance": [],
      "collapsed_sections": [],
      "authorship_tag": "ABX9TyMLplns+wPyHup+hGAeKmmR"
    },
    "kernelspec": {
      "name": "python3",
      "display_name": "Python 3"
    },
    "language_info": {
      "name": "python"
    }
  },
  "cells": [
    {
      "cell_type": "markdown",
      "source": [
        "# Question\n",
        "Write a function that takes in a non-empty array of integers that are sorted in ascending order and returns a new array of the same length with the squares of the original integers also sorted in ascending order. \n",
        "\n",
        "```\n",
        "For example:\n",
        "      array = [1,  2,  3,  5,  6,  8,  9] \n",
        "\n",
        "Returns:\n",
        "[1,  4,  9,  25,  36,  64,  81]\n",
        "```"
      ],
      "metadata": {
        "id": "pvi8wrpLFgNJ"
      }
    },
    {
      "cell_type": "code",
      "execution_count": 144,
      "metadata": {
        "id": "YHZB-d-yFBGI"
      },
      "outputs": [],
      "source": [
        "# Creat a function that returns sorted squared array\n",
        "def sortedSquareArray(array, original_array):\n",
        "  # Loop through the array using len method to get each value in the array\n",
        "  for i in range(len(array)):\n",
        "    # square each value or by multiplying each value with itself  \n",
        "    array[i] = array[i] ** 2 # or use array[i] * array[i]\n",
        "  print('Length of Original array is', len(array))\n",
        "  print('Length of sorted array:', len(sorted(array)),'\\n')\n",
        "  print('The Original array was:\\n', original_array)\n",
        "  # Return a sorted array in ascending order\n",
        "  print('\\nThe sorted squared array is:')\n",
        "  return sorted(array) \n",
        "    "
      ]
    },
    {
      "cell_type": "markdown",
      "source": [
        ">* Limitation:\n",
        "Ensure you use different names when assigning the array variables. Use of same array names in the function will return a square of the original array before it's sorted "
      ],
      "metadata": {
        "id": "ONhF8XVPhNuK"
      }
    },
    {
      "cell_type": "code",
      "source": [
        "# Use the function to Print out the solution\n",
        "array_ = [4,2,3,0,5,1,-1]\n",
        "original_array = [4,2,3,0,5,1,-1]\n",
        "solution = sortedSquareArray(array_, original_array)\n",
        "print(solution)"
      ],
      "metadata": {
        "colab": {
          "base_uri": "https://localhost:8080/"
        },
        "id": "2yJ136wVFE-3",
        "outputId": "52b5649d-a5b4-42f8-a9c2-dfc24c5e8403"
      },
      "execution_count": 145,
      "outputs": [
        {
          "output_type": "stream",
          "name": "stdout",
          "text": [
            "Length of Original array is 7\n",
            "Length of sorted array: 7 \n",
            "\n",
            "The Original array was:\n",
            " [4, 2, 3, 0, 5, 1, -1]\n",
            "\n",
            "The sorted squared array is:\n",
            "[0, 1, 1, 4, 9, 16, 25]\n"
          ]
        }
      ]
    }
  ]
}